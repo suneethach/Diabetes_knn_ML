{
  "nbformat": 4,
  "nbformat_minor": 0,
  "metadata": {
    "colab": {
      "name": "Url shortener by Suneetha .ipynb",
      "provenance": [],
      "authorship_tag": "ABX9TyMCSd1pCYEChEJbsYXAaHXr",
      "include_colab_link": true
    },
    "kernelspec": {
      "name": "python3",
      "display_name": "Python 3"
    }
  },
  "cells": [
    {
      "cell_type": "markdown",
      "metadata": {
        "id": "view-in-github",
        "colab_type": "text"
      },
      "source": [
        "<a href=\"https://colab.research.google.com/github/suneethach/Diabetes_knn_ML/blob/main/Url_shortener_by_Suneetha_.ipynb\" target=\"_parent\"><img src=\"https://colab.research.google.com/assets/colab-badge.svg\" alt=\"Open In Colab\"/></a>"
      ]
    },
    {
      "cell_type": "code",
      "metadata": {
        "id": "9emHAi2JEDNs",
        "colab": {
          "base_uri": "https://localhost:8080/"
        },
        "outputId": "9570813e-a49e-47d3-9767-6c1a0c760630"
      },
      "source": [
        "pip install pyshorteners\n"
      ],
      "execution_count": 1,
      "outputs": [
        {
          "output_type": "stream",
          "text": [
            "Collecting pyshorteners\n",
            "  Downloading https://files.pythonhosted.org/packages/80/13/7dd5f53ac009775e18861f41efadf78160e1015c84a476d373957cb63b5c/pyshorteners-1.0.1.tar.gz\n",
            "Requirement already satisfied: requests in /usr/local/lib/python3.6/dist-packages (from pyshorteners) (2.23.0)\n",
            "Requirement already satisfied: certifi>=2017.4.17 in /usr/local/lib/python3.6/dist-packages (from requests->pyshorteners) (2020.12.5)\n",
            "Requirement already satisfied: chardet<4,>=3.0.2 in /usr/local/lib/python3.6/dist-packages (from requests->pyshorteners) (3.0.4)\n",
            "Requirement already satisfied: idna<3,>=2.5 in /usr/local/lib/python3.6/dist-packages (from requests->pyshorteners) (2.10)\n",
            "Requirement already satisfied: urllib3!=1.25.0,!=1.25.1,<1.26,>=1.21.1 in /usr/local/lib/python3.6/dist-packages (from requests->pyshorteners) (1.24.3)\n",
            "Building wheels for collected packages: pyshorteners\n",
            "  Building wheel for pyshorteners (setup.py) ... \u001b[?25l\u001b[?25hdone\n",
            "  Created wheel for pyshorteners: filename=pyshorteners-1.0.1-cp36-none-any.whl size=17495 sha256=c21b89dc0b475cc893329c6ddc5a4195d03a6be23dd30fa9954c7d568d0cde54\n",
            "  Stored in directory: /root/.cache/pip/wheels/99/2b/ab/854c6fdf96d6775ffe179ec99211af2adecb450108c477ada2\n",
            "Successfully built pyshorteners\n",
            "Installing collected packages: pyshorteners\n",
            "Successfully installed pyshorteners-1.0.1\n"
          ],
          "name": "stdout"
        }
      ]
    },
    {
      "cell_type": "code",
      "metadata": {
        "id": "2mQqRY69IG_d"
      },
      "source": [
        "import pyshorteners\n"
      ],
      "execution_count": 2,
      "outputs": []
    },
    {
      "cell_type": "code",
      "metadata": {
        "id": "NsuixhHEEESz"
      },
      "source": [
        "link = \"https://www.youtube.com/watch?v=sHWKN5dakPw\""
      ],
      "execution_count": 3,
      "outputs": []
    },
    {
      "cell_type": "code",
      "metadata": {
        "id": "mO1oI2p0EEYL",
        "colab": {
          "base_uri": "https://localhost:8080/"
        },
        "outputId": "01f7c7ae-32f4-4417-d38d-c2d579a45de8"
      },
      "source": [
        "s = pyshorteners.Shortener()\n",
        "print(s.tinyurl.short(link))"
      ],
      "execution_count": 4,
      "outputs": [
        {
          "output_type": "stream",
          "text": [
            "https://tinyurl.com/y6hohm2w\n"
          ],
          "name": "stdout"
        }
      ]
    },
    {
      "cell_type": "code",
      "metadata": {
        "id": "sLXqPdEJEEdG"
      },
      "source": [
        ""
      ],
      "execution_count": null,
      "outputs": []
    },
    {
      "cell_type": "code",
      "metadata": {
        "id": "n6t4ubiFEEcD",
        "colab": {
          "base_uri": "https://localhost:8080/"
        },
        "outputId": "6eb4f5b7-d600-49ca-c636-e7f607cf42f0"
      },
      "source": [
        "import pyshorteners as sh\n",
        "\n",
        "link = 'https://www.youtube.com/ayushirawat/videos'\n",
        "\n",
        "s = sh.Shortener()\n",
        "x = (s.tinyurl.short(link))\n",
        "\n",
        "print(x)\n",
        "\n",
        "\n",
        "#print(pyshorteners.Shortener().tinyurl.short('https://www.youtube.com/ayushirawat/videos'))"
      ],
      "execution_count": 7,
      "outputs": [
        {
          "output_type": "stream",
          "text": [
            "https://tinyurl.com/y533jl6f\n"
          ],
          "name": "stdout"
        }
      ]
    },
    {
      "cell_type": "code",
      "metadata": {
        "id": "y5YwdJPEEEWp",
        "colab": {
          "base_uri": "https://localhost:8080/"
        },
        "outputId": "9925c64a-05e3-4d04-ff02-2b8bd5304414"
      },
      "source": [
        "print(pyshorteners.Shortener().tinyurl.short('https://www.youtube.com/ayushirawat/videos'))"
      ],
      "execution_count": 5,
      "outputs": [
        {
          "output_type": "stream",
          "text": [
            "https://tinyurl.com/y533jl6f\n"
          ],
          "name": "stdout"
        }
      ]
    },
    {
      "cell_type": "code",
      "metadata": {
        "id": "SgACQnZcEER0"
      },
      "source": [
        ""
      ],
      "execution_count": null,
      "outputs": []
    }
  ]
}